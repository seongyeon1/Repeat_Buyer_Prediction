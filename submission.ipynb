{
 "cells": [
  {
   "cell_type": "code",
   "execution_count": 5,
   "metadata": {},
   "outputs": [],
   "source": [
    "import pandas as pd\n",
    "from glob import glob"
   ]
  },
  {
   "cell_type": "code",
   "execution_count": 29,
   "metadata": {},
   "outputs": [],
   "source": [
    "s = glob('submission*.csv')"
   ]
  },
  {
   "cell_type": "code",
   "execution_count": 30,
   "metadata": {},
   "outputs": [
    {
     "data": {
      "text/plain": [
       "['submission7.csv',\n",
       " 'submission6.csv',\n",
       " 'submission4.csv',\n",
       " 'submission5.csv',\n",
       " 'submission1.csv',\n",
       " 'submission2.csv',\n",
       " 'submission3.csv',\n",
       " 'submission8.csv']"
      ]
     },
     "execution_count": 30,
     "metadata": {},
     "output_type": "execute_result"
    }
   ],
   "source": [
    "s"
   ]
  },
  {
   "cell_type": "code",
   "execution_count": 69,
   "metadata": {},
   "outputs": [],
   "source": [
    "# for i in s:\n",
    "#     fname = i.rstrip(\".csv\")\n",
    "#     print(f'<{fname}>')\n",
    "#     globals()[i.lstrip('.csv')] = pd.read_csv(i).iloc[:,1:]\n",
    "#     print(globals()[i.lstrip('.csv')].head())"
   ]
  },
  {
   "cell_type": "code",
   "execution_count": 71,
   "metadata": {},
   "outputs": [
    {
     "data": {
      "text/plain": [
       "'submission7.csv'"
      ]
     },
     "execution_count": 71,
     "metadata": {},
     "output_type": "execute_result"
    }
   ],
   "source": [
    "s[0]"
   ]
  },
  {
   "cell_type": "code",
   "execution_count": 68,
   "metadata": {},
   "outputs": [
    {
     "ename": "NameError",
     "evalue": "name 'submission7' is not defined",
     "output_type": "error",
     "traceback": [
      "\u001b[0;31m---------------------------------------------------------------------------\u001b[0m",
      "\u001b[0;31mNameError\u001b[0m                                 Traceback (most recent call last)",
      "\u001b[1;32m/Users/seongyeon/Library/Mobile Documents/com~apple~CloudDocs/2023-02/AI를 위한 머신러닝/team_project/submission.ipynb Cell 5\u001b[0m line \u001b[0;36m1\n\u001b[0;32m----> <a href='vscode-notebook-cell:/Users/seongyeon/Library/Mobile%20Documents/com~apple~CloudDocs/2023-02/AI%E1%84%85%E1%85%B3%E1%86%AF%20%E1%84%8B%E1%85%B1%E1%84%92%E1%85%A1%E1%86%AB%20%E1%84%86%E1%85%A5%E1%84%89%E1%85%B5%E1%86%AB%E1%84%85%E1%85%A5%E1%84%82%E1%85%B5%E1%86%BC/team_project/submission.ipynb#X24sZmlsZQ%3D%3D?line=0'>1</a>\u001b[0m submission7\n",
      "\u001b[0;31mNameError\u001b[0m: name 'submission7' is not defined"
     ]
    }
   ],
   "source": [
    "submission4 = pd.read_csv(s[0])"
   ]
  },
  {
   "cell_type": "code",
   "execution_count": 31,
   "metadata": {},
   "outputs": [
    {
     "data": {
      "text/plain": [
       "'submission7.csv'"
      ]
     },
     "execution_count": 31,
     "metadata": {},
     "output_type": "execute_result"
    }
   ],
   "source": [
    "s[0]"
   ]
  },
  {
   "cell_type": "code",
   "execution_count": 32,
   "metadata": {},
   "outputs": [],
   "source": [
    "submission4 = pd.read_csv(s[0]).iloc[:,1:]"
   ]
  },
  {
   "cell_type": "code",
   "execution_count": 33,
   "metadata": {},
   "outputs": [
    {
     "data": {
      "text/html": [
       "<div>\n",
       "<style scoped>\n",
       "    .dataframe tbody tr th:only-of-type {\n",
       "        vertical-align: middle;\n",
       "    }\n",
       "\n",
       "    .dataframe tbody tr th {\n",
       "        vertical-align: top;\n",
       "    }\n",
       "\n",
       "    .dataframe thead th {\n",
       "        text-align: right;\n",
       "    }\n",
       "</style>\n",
       "<table border=\"1\" class=\"dataframe\">\n",
       "  <thead>\n",
       "    <tr style=\"text-align: right;\">\n",
       "      <th></th>\n",
       "      <th>user_id</th>\n",
       "      <th>merchant_id</th>\n",
       "      <th>prob</th>\n",
       "    </tr>\n",
       "  </thead>\n",
       "  <tbody>\n",
       "    <tr>\n",
       "      <th>0</th>\n",
       "      <td>163968</td>\n",
       "      <td>4605</td>\n",
       "      <td>0.502272</td>\n",
       "    </tr>\n",
       "    <tr>\n",
       "      <th>1</th>\n",
       "      <td>360576</td>\n",
       "      <td>1581</td>\n",
       "      <td>0.643776</td>\n",
       "    </tr>\n",
       "    <tr>\n",
       "      <th>2</th>\n",
       "      <td>98688</td>\n",
       "      <td>1964</td>\n",
       "      <td>0.508569</td>\n",
       "    </tr>\n",
       "    <tr>\n",
       "      <th>3</th>\n",
       "      <td>98688</td>\n",
       "      <td>3645</td>\n",
       "      <td>0.351501</td>\n",
       "    </tr>\n",
       "    <tr>\n",
       "      <th>4</th>\n",
       "      <td>295296</td>\n",
       "      <td>3361</td>\n",
       "      <td>0.513836</td>\n",
       "    </tr>\n",
       "    <tr>\n",
       "      <th>...</th>\n",
       "      <td>...</td>\n",
       "      <td>...</td>\n",
       "      <td>...</td>\n",
       "    </tr>\n",
       "    <tr>\n",
       "      <th>261472</th>\n",
       "      <td>228479</td>\n",
       "      <td>3111</td>\n",
       "      <td>0.535481</td>\n",
       "    </tr>\n",
       "    <tr>\n",
       "      <th>261473</th>\n",
       "      <td>97919</td>\n",
       "      <td>2341</td>\n",
       "      <td>0.201514</td>\n",
       "    </tr>\n",
       "    <tr>\n",
       "      <th>261474</th>\n",
       "      <td>97919</td>\n",
       "      <td>3971</td>\n",
       "      <td>0.636289</td>\n",
       "    </tr>\n",
       "    <tr>\n",
       "      <th>261475</th>\n",
       "      <td>32639</td>\n",
       "      <td>3536</td>\n",
       "      <td>0.443802</td>\n",
       "    </tr>\n",
       "    <tr>\n",
       "      <th>261476</th>\n",
       "      <td>32639</td>\n",
       "      <td>3319</td>\n",
       "      <td>0.527613</td>\n",
       "    </tr>\n",
       "  </tbody>\n",
       "</table>\n",
       "<p>261477 rows × 3 columns</p>\n",
       "</div>"
      ],
      "text/plain": [
       "        user_id  merchant_id      prob\n",
       "0        163968         4605  0.502272\n",
       "1        360576         1581  0.643776\n",
       "2         98688         1964  0.508569\n",
       "3         98688         3645  0.351501\n",
       "4        295296         3361  0.513836\n",
       "...         ...          ...       ...\n",
       "261472   228479         3111  0.535481\n",
       "261473    97919         2341  0.201514\n",
       "261474    97919         3971  0.636289\n",
       "261475    32639         3536  0.443802\n",
       "261476    32639         3319  0.527613\n",
       "\n",
       "[261477 rows x 3 columns]"
      ]
     },
     "execution_count": 33,
     "metadata": {},
     "output_type": "execute_result"
    }
   ],
   "source": [
    "submission4"
   ]
  },
  {
   "cell_type": "code",
   "execution_count": 34,
   "metadata": {},
   "outputs": [
    {
     "data": {
      "text/html": [
       "<div>\n",
       "<style scoped>\n",
       "    .dataframe tbody tr th:only-of-type {\n",
       "        vertical-align: middle;\n",
       "    }\n",
       "\n",
       "    .dataframe tbody tr th {\n",
       "        vertical-align: top;\n",
       "    }\n",
       "\n",
       "    .dataframe thead th {\n",
       "        text-align: right;\n",
       "    }\n",
       "</style>\n",
       "<table border=\"1\" class=\"dataframe\">\n",
       "  <thead>\n",
       "    <tr style=\"text-align: right;\">\n",
       "      <th></th>\n",
       "      <th>user_id</th>\n",
       "      <th>merchant_id</th>\n",
       "      <th>prob</th>\n",
       "    </tr>\n",
       "  </thead>\n",
       "  <tbody>\n",
       "    <tr>\n",
       "      <th>0</th>\n",
       "      <td>163968</td>\n",
       "      <td>4605</td>\n",
       "      <td>0.073957</td>\n",
       "    </tr>\n",
       "    <tr>\n",
       "      <th>1</th>\n",
       "      <td>360576</td>\n",
       "      <td>1581</td>\n",
       "      <td>0.101213</td>\n",
       "    </tr>\n",
       "    <tr>\n",
       "      <th>2</th>\n",
       "      <td>98688</td>\n",
       "      <td>1964</td>\n",
       "      <td>0.078422</td>\n",
       "    </tr>\n",
       "    <tr>\n",
       "      <th>3</th>\n",
       "      <td>98688</td>\n",
       "      <td>3645</td>\n",
       "      <td>0.037815</td>\n",
       "    </tr>\n",
       "    <tr>\n",
       "      <th>4</th>\n",
       "      <td>295296</td>\n",
       "      <td>3361</td>\n",
       "      <td>0.072006</td>\n",
       "    </tr>\n",
       "    <tr>\n",
       "      <th>...</th>\n",
       "      <td>...</td>\n",
       "      <td>...</td>\n",
       "      <td>...</td>\n",
       "    </tr>\n",
       "    <tr>\n",
       "      <th>261472</th>\n",
       "      <td>228479</td>\n",
       "      <td>3111</td>\n",
       "      <td>0.050457</td>\n",
       "    </tr>\n",
       "    <tr>\n",
       "      <th>261473</th>\n",
       "      <td>97919</td>\n",
       "      <td>2341</td>\n",
       "      <td>0.019391</td>\n",
       "    </tr>\n",
       "    <tr>\n",
       "      <th>261474</th>\n",
       "      <td>97919</td>\n",
       "      <td>3971</td>\n",
       "      <td>0.098116</td>\n",
       "    </tr>\n",
       "    <tr>\n",
       "      <th>261475</th>\n",
       "      <td>32639</td>\n",
       "      <td>3536</td>\n",
       "      <td>0.045815</td>\n",
       "    </tr>\n",
       "    <tr>\n",
       "      <th>261476</th>\n",
       "      <td>32639</td>\n",
       "      <td>3319</td>\n",
       "      <td>0.076046</td>\n",
       "    </tr>\n",
       "  </tbody>\n",
       "</table>\n",
       "<p>261477 rows × 3 columns</p>\n",
       "</div>"
      ],
      "text/plain": [
       "        user_id  merchant_id      prob\n",
       "0        163968         4605  0.073957\n",
       "1        360576         1581  0.101213\n",
       "2         98688         1964  0.078422\n",
       "3         98688         3645  0.037815\n",
       "4        295296         3361  0.072006\n",
       "...         ...          ...       ...\n",
       "261472   228479         3111  0.050457\n",
       "261473    97919         2341  0.019391\n",
       "261474    97919         3971  0.098116\n",
       "261475    32639         3536  0.045815\n",
       "261476    32639         3319  0.076046\n",
       "\n",
       "[261477 rows x 3 columns]"
      ]
     },
     "execution_count": 34,
     "metadata": {},
     "output_type": "execute_result"
    }
   ],
   "source": [
    "submission = pd.read_csv(s[1])\n",
    "submission "
   ]
  },
  {
   "cell_type": "code",
   "execution_count": 37,
   "metadata": {},
   "outputs": [
    {
     "data": {
      "text/html": [
       "<div>\n",
       "<style scoped>\n",
       "    .dataframe tbody tr th:only-of-type {\n",
       "        vertical-align: middle;\n",
       "    }\n",
       "\n",
       "    .dataframe tbody tr th {\n",
       "        vertical-align: top;\n",
       "    }\n",
       "\n",
       "    .dataframe thead th {\n",
       "        text-align: right;\n",
       "    }\n",
       "</style>\n",
       "<table border=\"1\" class=\"dataframe\">\n",
       "  <thead>\n",
       "    <tr style=\"text-align: right;\">\n",
       "      <th></th>\n",
       "      <th>user_id</th>\n",
       "      <th>merchant_id</th>\n",
       "      <th>prob</th>\n",
       "    </tr>\n",
       "  </thead>\n",
       "  <tbody>\n",
       "    <tr>\n",
       "      <th>0</th>\n",
       "      <td>163968</td>\n",
       "      <td>4605</td>\n",
       "      <td>0.072359</td>\n",
       "    </tr>\n",
       "    <tr>\n",
       "      <th>1</th>\n",
       "      <td>360576</td>\n",
       "      <td>1581</td>\n",
       "      <td>0.097272</td>\n",
       "    </tr>\n",
       "    <tr>\n",
       "      <th>2</th>\n",
       "      <td>98688</td>\n",
       "      <td>1964</td>\n",
       "      <td>0.077681</td>\n",
       "    </tr>\n",
       "    <tr>\n",
       "      <th>3</th>\n",
       "      <td>98688</td>\n",
       "      <td>3645</td>\n",
       "      <td>0.042212</td>\n",
       "    </tr>\n",
       "    <tr>\n",
       "      <th>4</th>\n",
       "      <td>295296</td>\n",
       "      <td>3361</td>\n",
       "      <td>0.064397</td>\n",
       "    </tr>\n",
       "    <tr>\n",
       "      <th>...</th>\n",
       "      <td>...</td>\n",
       "      <td>...</td>\n",
       "      <td>...</td>\n",
       "    </tr>\n",
       "    <tr>\n",
       "      <th>261472</th>\n",
       "      <td>228479</td>\n",
       "      <td>3111</td>\n",
       "      <td>0.055911</td>\n",
       "    </tr>\n",
       "    <tr>\n",
       "      <th>261473</th>\n",
       "      <td>97919</td>\n",
       "      <td>2341</td>\n",
       "      <td>0.021050</td>\n",
       "    </tr>\n",
       "    <tr>\n",
       "      <th>261474</th>\n",
       "      <td>97919</td>\n",
       "      <td>3971</td>\n",
       "      <td>0.098314</td>\n",
       "    </tr>\n",
       "    <tr>\n",
       "      <th>261475</th>\n",
       "      <td>32639</td>\n",
       "      <td>3536</td>\n",
       "      <td>0.043989</td>\n",
       "    </tr>\n",
       "    <tr>\n",
       "      <th>261476</th>\n",
       "      <td>32639</td>\n",
       "      <td>3319</td>\n",
       "      <td>0.075779</td>\n",
       "    </tr>\n",
       "  </tbody>\n",
       "</table>\n",
       "<p>261477 rows × 3 columns</p>\n",
       "</div>"
      ],
      "text/plain": [
       "        user_id  merchant_id      prob\n",
       "0        163968         4605  0.072359\n",
       "1        360576         1581  0.097272\n",
       "2         98688         1964  0.077681\n",
       "3         98688         3645  0.042212\n",
       "4        295296         3361  0.064397\n",
       "...         ...          ...       ...\n",
       "261472   228479         3111  0.055911\n",
       "261473    97919         2341  0.021050\n",
       "261474    97919         3971  0.098314\n",
       "261475    32639         3536  0.043989\n",
       "261476    32639         3319  0.075779\n",
       "\n",
       "[261477 rows x 3 columns]"
      ]
     },
     "execution_count": 37,
     "metadata": {},
     "output_type": "execute_result"
    }
   ],
   "source": [
    "submission5 = pd.read_csv(s[3])\n",
    "submission5"
   ]
  },
  {
   "cell_type": "code",
   "execution_count": 38,
   "metadata": {},
   "outputs": [
    {
     "data": {
      "text/html": [
       "<div>\n",
       "<style scoped>\n",
       "    .dataframe tbody tr th:only-of-type {\n",
       "        vertical-align: middle;\n",
       "    }\n",
       "\n",
       "    .dataframe tbody tr th {\n",
       "        vertical-align: top;\n",
       "    }\n",
       "\n",
       "    .dataframe thead th {\n",
       "        text-align: right;\n",
       "    }\n",
       "</style>\n",
       "<table border=\"1\" class=\"dataframe\">\n",
       "  <thead>\n",
       "    <tr style=\"text-align: right;\">\n",
       "      <th></th>\n",
       "      <th>user_id</th>\n",
       "      <th>merchant_id</th>\n",
       "      <th>prob</th>\n",
       "    </tr>\n",
       "  </thead>\n",
       "  <tbody>\n",
       "    <tr>\n",
       "      <th>0</th>\n",
       "      <td>163968</td>\n",
       "      <td>4605</td>\n",
       "      <td>0.073957</td>\n",
       "    </tr>\n",
       "    <tr>\n",
       "      <th>1</th>\n",
       "      <td>360576</td>\n",
       "      <td>1581</td>\n",
       "      <td>0.101213</td>\n",
       "    </tr>\n",
       "    <tr>\n",
       "      <th>2</th>\n",
       "      <td>98688</td>\n",
       "      <td>1964</td>\n",
       "      <td>0.078422</td>\n",
       "    </tr>\n",
       "    <tr>\n",
       "      <th>3</th>\n",
       "      <td>98688</td>\n",
       "      <td>3645</td>\n",
       "      <td>0.037815</td>\n",
       "    </tr>\n",
       "    <tr>\n",
       "      <th>4</th>\n",
       "      <td>295296</td>\n",
       "      <td>3361</td>\n",
       "      <td>0.072006</td>\n",
       "    </tr>\n",
       "    <tr>\n",
       "      <th>...</th>\n",
       "      <td>...</td>\n",
       "      <td>...</td>\n",
       "      <td>...</td>\n",
       "    </tr>\n",
       "    <tr>\n",
       "      <th>261472</th>\n",
       "      <td>228479</td>\n",
       "      <td>3111</td>\n",
       "      <td>0.050457</td>\n",
       "    </tr>\n",
       "    <tr>\n",
       "      <th>261473</th>\n",
       "      <td>97919</td>\n",
       "      <td>2341</td>\n",
       "      <td>0.019391</td>\n",
       "    </tr>\n",
       "    <tr>\n",
       "      <th>261474</th>\n",
       "      <td>97919</td>\n",
       "      <td>3971</td>\n",
       "      <td>0.098116</td>\n",
       "    </tr>\n",
       "    <tr>\n",
       "      <th>261475</th>\n",
       "      <td>32639</td>\n",
       "      <td>3536</td>\n",
       "      <td>0.045815</td>\n",
       "    </tr>\n",
       "    <tr>\n",
       "      <th>261476</th>\n",
       "      <td>32639</td>\n",
       "      <td>3319</td>\n",
       "      <td>0.076046</td>\n",
       "    </tr>\n",
       "  </tbody>\n",
       "</table>\n",
       "<p>261477 rows × 3 columns</p>\n",
       "</div>"
      ],
      "text/plain": [
       "        user_id  merchant_id      prob\n",
       "0        163968         4605  0.073957\n",
       "1        360576         1581  0.101213\n",
       "2         98688         1964  0.078422\n",
       "3         98688         3645  0.037815\n",
       "4        295296         3361  0.072006\n",
       "...         ...          ...       ...\n",
       "261472   228479         3111  0.050457\n",
       "261473    97919         2341  0.019391\n",
       "261474    97919         3971  0.098116\n",
       "261475    32639         3536  0.045815\n",
       "261476    32639         3319  0.076046\n",
       "\n",
       "[261477 rows x 3 columns]"
      ]
     },
     "execution_count": 38,
     "metadata": {},
     "output_type": "execute_result"
    }
   ],
   "source": [
    "submission"
   ]
  },
  {
   "cell_type": "code",
   "execution_count": 21,
   "metadata": {},
   "outputs": [],
   "source": [
    "submission.prob  = submission.prob * 0.7 + submission4.prob * 0.3"
   ]
  },
  {
   "cell_type": "code",
   "execution_count": 22,
   "metadata": {},
   "outputs": [],
   "source": [
    "submission.to_csv('submission8.csv', index=False)"
   ]
  },
  {
   "cell_type": "code",
   "execution_count": 23,
   "metadata": {},
   "outputs": [
    {
     "data": {
      "text/plain": [
       "count    261477.000000\n",
       "mean          0.321676\n",
       "std           0.112163\n",
       "min           0.064112\n",
       "25%           0.238406\n",
       "50%           0.308973\n",
       "75%           0.390972\n",
       "max           0.828080\n",
       "Name: prob, dtype: float64"
      ]
     },
     "execution_count": 23,
     "metadata": {},
     "output_type": "execute_result"
    }
   ],
   "source": [
    "submission.prob.describe()"
   ]
  },
  {
   "cell_type": "code",
   "execution_count": 24,
   "metadata": {},
   "outputs": [],
   "source": [
    "import seaborn as sns"
   ]
  },
  {
   "cell_type": "code",
   "execution_count": 25,
   "metadata": {},
   "outputs": [
    {
     "data": {
      "text/plain": [
       "<AxesSubplot: >"
      ]
     },
     "execution_count": 25,
     "metadata": {},
     "output_type": "execute_result"
    },
    {
     "data": {
      "image/png": "[encoded data removed]",
      "text/plain": [
       "<Figure size 640x480 with 1 Axes>"
      ]
     },
     "metadata": {},
     "output_type": "display_data"
    }
   ],
   "source": [
    "sns.boxplot(submission4.prob)"
   ]
  },
  {
   "cell_type": "code",
   "execution_count": null,
   "metadata": {},
   "outputs": [],
   "source": []
  }
 ],
 "metadata": {
  "kernelspec": {
   "display_name": "DL-torch",
   "language": "python",
   "name": "python3"
  },
  "language_info": {
   "codemirror_mode": {
    "name": "ipython",
    "version": 3
   },
   "file_extension": ".py",
   "mimetype": "text/x-python",
   "name": "python",
   "nbconvert_exporter": "python",
   "pygments_lexer": "ipython3",
   "version": "3.8.16"
  }
 },
 "nbformat": 4,
 "nbformat_minor": 2
}
