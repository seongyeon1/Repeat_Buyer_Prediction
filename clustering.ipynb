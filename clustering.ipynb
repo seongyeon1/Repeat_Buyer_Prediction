{
 "cells": [
  {
   "cell_type": "code",
   "execution_count": 3,
   "metadata": {},
   "outputs": [
    {
     "ename": "ModuleNotFoundError",
     "evalue": "No module named 'soykeyword'",
     "output_type": "error",
     "traceback": [
      "\u001b[0;31m---------------------------------------------------------------------------\u001b[0m",
      "\u001b[0;31mModuleNotFoundError\u001b[0m                       Traceback (most recent call last)",
      "\u001b[1;32m/Users/seongyeon/Library/Mobile Documents/com~apple~CloudDocs/2023-02/AI를 위한 머신러닝/team_project/clustering.ipynb Cell 1\u001b[0m line \u001b[0;36m4\n\u001b[1;32m      <a href='vscode-notebook-cell:/Users/seongyeon/Library/Mobile%20Documents/com~apple~CloudDocs/2023-02/AI%E1%84%85%E1%85%B3%E1%86%AF%20%E1%84%8B%E1%85%B1%E1%84%92%E1%85%A1%E1%86%AB%20%E1%84%86%E1%85%A5%E1%84%89%E1%85%B5%E1%86%AB%E1%84%85%E1%85%A5%E1%84%82%E1%85%B5%E1%86%BC/team_project/clustering.ipynb#W0sZmlsZQ%3D%3D?line=1'>2</a>\u001b[0m \u001b[39mfrom\u001b[39;00m \u001b[39msklearn\u001b[39;00m\u001b[39m.\u001b[39;00m\u001b[39mcluster\u001b[39;00m \u001b[39mimport\u001b[39;00m KMeans\n\u001b[1;32m      <a href='vscode-notebook-cell:/Users/seongyeon/Library/Mobile%20Documents/com~apple~CloudDocs/2023-02/AI%E1%84%85%E1%85%B3%E1%86%AF%20%E1%84%8B%E1%85%B1%E1%84%92%E1%85%A1%E1%86%AB%20%E1%84%86%E1%85%A5%E1%84%89%E1%85%B5%E1%86%AB%E1%84%85%E1%85%A5%E1%84%82%E1%85%B5%E1%86%BC/team_project/clustering.ipynb#W0sZmlsZQ%3D%3D?line=2'>3</a>\u001b[0m \u001b[39mfrom\u001b[39;00m \u001b[39mkeybert\u001b[39;00m \u001b[39mimport\u001b[39;00m KeyBERT\n\u001b[0;32m----> <a href='vscode-notebook-cell:/Users/seongyeon/Library/Mobile%20Documents/com~apple~CloudDocs/2023-02/AI%E1%84%85%E1%85%B3%E1%86%AF%20%E1%84%8B%E1%85%B1%E1%84%92%E1%85%A1%E1%86%AB%20%E1%84%86%E1%85%A5%E1%84%89%E1%85%B5%E1%86%AB%E1%84%85%E1%85%A5%E1%84%82%E1%85%B5%E1%86%BC/team_project/clustering.ipynb#W0sZmlsZQ%3D%3D?line=3'>4</a>\u001b[0m \u001b[39mfrom\u001b[39;00m \u001b[39msoykeyword\u001b[39;00m\u001b[39m.\u001b[39;00m\u001b[39mlasso\u001b[39;00m \u001b[39mimport\u001b[39;00m LassoKeywordExtractor\n\u001b[1;32m      <a href='vscode-notebook-cell:/Users/seongyeon/Library/Mobile%20Documents/com~apple~CloudDocs/2023-02/AI%E1%84%85%E1%85%B3%E1%86%AF%20%E1%84%8B%E1%85%B1%E1%84%92%E1%85%A1%E1%86%AB%20%E1%84%86%E1%85%A5%E1%84%89%E1%85%B5%E1%86%AB%E1%84%85%E1%85%A5%E1%84%82%E1%85%B5%E1%86%BC/team_project/clustering.ipynb#W0sZmlsZQ%3D%3D?line=5'>6</a>\u001b[0m \u001b[39mdef\u001b[39;00m \u001b[39mpreprocess_data\u001b[39m(sentences):\n\u001b[1;32m      <a href='vscode-notebook-cell:/Users/seongyeon/Library/Mobile%20Documents/com~apple~CloudDocs/2023-02/AI%E1%84%85%E1%85%B3%E1%86%AF%20%E1%84%8B%E1%85%B1%E1%84%92%E1%85%A1%E1%86%AB%20%E1%84%86%E1%85%A5%E1%84%89%E1%85%B5%E1%86%AB%E1%84%85%E1%85%A5%E1%84%82%E1%85%B5%E1%86%BC/team_project/clustering.ipynb#W0sZmlsZQ%3D%3D?line=6'>7</a>\u001b[0m     \u001b[39m# TF-IDF 벡터화\u001b[39;00m\n\u001b[1;32m      <a href='vscode-notebook-cell:/Users/seongyeon/Library/Mobile%20Documents/com~apple~CloudDocs/2023-02/AI%E1%84%85%E1%85%B3%E1%86%AF%20%E1%84%8B%E1%85%B1%E1%84%92%E1%85%A1%E1%86%AB%20%E1%84%86%E1%85%A5%E1%84%89%E1%85%B5%E1%86%AB%E1%84%85%E1%85%A5%E1%84%82%E1%85%B5%E1%86%BC/team_project/clustering.ipynb#W0sZmlsZQ%3D%3D?line=7'>8</a>\u001b[0m     vectorizer \u001b[39m=\u001b[39m TfidfVectorizer()\n",
      "\u001b[0;31mModuleNotFoundError\u001b[0m: No module named 'soykeyword'"
     ]
    }
   ],
   "source": [
    "from sklearn.feature_extraction.text import TfidfVectorizer\n",
    "from sklearn.cluster import KMeans\n",
    "from keybert import KeyBERT\n",
    "from soykeyword.lasso import LassoKeywordExtractor\n",
    "\n",
    "def preprocess_data(sentences):\n",
    "    # TF-IDF 벡터화\n",
    "    vectorizer = TfidfVectorizer()\n",
    "    X = vectorizer.fit_transform(sentences)\n",
    "    return X\n",
    "\n",
    "def cluster_sentences(sentences, num_clusters):\n",
    "    X = preprocess_data(sentences)\n",
    "    \n",
    "    # K-means 클러스터링\n",
    "    kmeans = KMeans(n_clusters=num_clusters)\n",
    "    kmeans.fit(X)\n",
    "    \n",
    "    return kmeans.labels_\n",
    "\n",
    "def get_cluster_keywords(sentences, cluster_labels, num_keywords):\n",
    "    extractor = LassoKeywordExtractor(\n",
    "        tokenizer='noun', \n",
    "        min_tf=1, \n",
    "        verbose=False\n",
    "    )\n",
    "    keywords = []\n",
    "    \n",
    "    for i in range(max(cluster_labels)+1):\n",
    "        cluster_sentences = [sentences[j] for j, label in enumerate(cluster_labels) if label == i]\n",
    "        cluster_keywords = extractor.extract_from_sentences(cluster_sentences, topk=num_keywords)\n",
    "        keywords.append(cluster_keywords)\n",
    "        \n",
    "    return keywords\n",
    "\n",
    "def get_similarity_scores(sentences, query):\n",
    "    model = KeyBERT('distilbert-base-nli-mean-tokens')\n",
    "    scores = model.score(sentences, query)\n",
    "    return scores\n",
    "\n",
    "def get_lowest_similarity_sentences(sentences, query, num_sentences):\n",
    "    scores = get_similarity_scores(sentences, query)\n",
    "    sorted_indices = sorted(range(len(scores)), key=lambda i: scores[i])\n",
    "    lowest_similarity_sentences = [sentences[i] for i in sorted_indices[:num_sentences]]\n",
    "    \n",
    "    return lowest_similarity_sentences\n",
    "\n",
    "# 사용자 입력 문장 리스트\n",
    "sentences = [\n",
    "    '은행 인턴 경험 있습니다',\n",
    "    '실무에서 고객 데이터 분석을 통해 인사이트를 도출했다',\n",
    "    '미래에셋 공모전 우수상',\n",
    "    '머신러닝 알고리즘을 활용해서 금융 데이터 분석을 했다'\n",
    "]\n",
    "\n",
    "# 군집 수\n",
    "num_clusters = 2\n",
    "\n",
    "# 사용자 입력 군집화\n",
    "cluster_labels = cluster_sentences(sentences, num_clusters)\n",
    "\n",
    "# 군집별 키워드 추출\n",
    "num_keywords = 3\n",
    "cluster_keywords = get_cluster_keywords(sentences, cluster_labels, num_keywords)\n",
    "\n",
    "# 사용자 입력과 유사도가 가장 낮은 문장 추출\n",
    "query = '데이터 분석 경험'\n",
    "num_sentences = 2\n",
    "lowest_similarity_sentences = get_lowest_similarity_sentences(sentences, query, num_sentences)\n",
    "\n",
    "print('군집 레이블:', cluster_labels)\n",
    "print('군집 키워드:', cluster_keywords)\n",
    "print('유사도가 가장 낮은 문장:', lowest_similarity_sentences)"
   ]
  }
 ],
 "metadata": {
  "kernelspec": {
   "display_name": "DL-torch",
   "language": "python",
   "name": "python3"
  },
  "language_info": {
   "codemirror_mode": {
    "name": "ipython",
    "version": 3
   },
   "file_extension": ".py",
   "mimetype": "text/x-python",
   "name": "python",
   "nbconvert_exporter": "python",
   "pygments_lexer": "ipython3",
   "version": "3.8.16"
  }
 },
 "nbformat": 4,
 "nbformat_minor": 2
}
